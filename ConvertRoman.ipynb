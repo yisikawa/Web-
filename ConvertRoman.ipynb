{
 "cells": [
  {
   "cell_type": "code",
   "execution_count": 7,
   "id": "9b6c8f31",
   "metadata": {},
   "outputs": [],
   "source": [
    "import glob\n",
    "import os"
   ]
  },
  {
   "cell_type": "code",
   "execution_count": 36,
   "id": "af3b0119",
   "metadata": {},
   "outputs": [],
   "source": [
    "dir = r'G:\\movie\\Gundam Orphans'"
   ]
  },
  {
   "cell_type": "code",
   "execution_count": 37,
   "id": "7ec0edd5",
   "metadata": {},
   "outputs": [],
   "source": [
    "files = glob.glob(dir+'/*.mp4')"
   ]
  },
  {
   "cell_type": "code",
   "execution_count": 38,
   "id": "ffcd4013",
   "metadata": {
    "scrolled": true
   },
   "outputs": [
    {
     "name": "stdout",
     "output_type": "stream",
     "text": [
      "G:\\movie\\Gundam Orphans\\機動戦士ガンダム鉄血のオルフェンス - 01.mp4 : G:\\movie\\Gundam Orphans\\Gundam Orphans - 01.mp4\n",
      "G:\\movie\\Gundam Orphans\\機動戦士ガンダム鉄血のオルフェンス - 02.mp4 : G:\\movie\\Gundam Orphans\\Gundam Orphans - 02.mp4\n",
      "G:\\movie\\Gundam Orphans\\機動戦士ガンダム鉄血のオルフェンス - 03.mp4 : G:\\movie\\Gundam Orphans\\Gundam Orphans - 03.mp4\n",
      "G:\\movie\\Gundam Orphans\\機動戦士ガンダム鉄血のオルフェンス - 04.mp4 : G:\\movie\\Gundam Orphans\\Gundam Orphans - 04.mp4\n",
      "G:\\movie\\Gundam Orphans\\機動戦士ガンダム鉄血のオルフェンス - 05.mp4 : G:\\movie\\Gundam Orphans\\Gundam Orphans - 05.mp4\n",
      "G:\\movie\\Gundam Orphans\\機動戦士ガンダム鉄血のオルフェンス - 06.mp4 : G:\\movie\\Gundam Orphans\\Gundam Orphans - 06.mp4\n",
      "G:\\movie\\Gundam Orphans\\機動戦士ガンダム鉄血のオルフェンス - 07.mp4 : G:\\movie\\Gundam Orphans\\Gundam Orphans - 07.mp4\n",
      "G:\\movie\\Gundam Orphans\\機動戦士ガンダム鉄血のオルフェンス - 08.mp4 : G:\\movie\\Gundam Orphans\\Gundam Orphans - 08.mp4\n",
      "G:\\movie\\Gundam Orphans\\機動戦士ガンダム鉄血のオルフェンス - 09.mp4 : G:\\movie\\Gundam Orphans\\Gundam Orphans - 09.mp4\n",
      "G:\\movie\\Gundam Orphans\\機動戦士ガンダム鉄血のオルフェンス - 10.mp4 : G:\\movie\\Gundam Orphans\\Gundam Orphans - 10.mp4\n",
      "G:\\movie\\Gundam Orphans\\機動戦士ガンダム鉄血のオルフェンス - 11.mp4 : G:\\movie\\Gundam Orphans\\Gundam Orphans - 11.mp4\n",
      "G:\\movie\\Gundam Orphans\\機動戦士ガンダム鉄血のオルフェンス - 12.mp4 : G:\\movie\\Gundam Orphans\\Gundam Orphans - 12.mp4\n",
      "G:\\movie\\Gundam Orphans\\機動戦士ガンダム鉄血のオルフェンス - 13.mp4 : G:\\movie\\Gundam Orphans\\Gundam Orphans - 13.mp4\n",
      "G:\\movie\\Gundam Orphans\\機動戦士ガンダム鉄血のオルフェンス - 14.mp4 : G:\\movie\\Gundam Orphans\\Gundam Orphans - 14.mp4\n",
      "G:\\movie\\Gundam Orphans\\機動戦士ガンダム鉄血のオルフェンス - 15.mp4 : G:\\movie\\Gundam Orphans\\Gundam Orphans - 15.mp4\n",
      "G:\\movie\\Gundam Orphans\\機動戦士ガンダム鉄血のオルフェンス - 16.mp4 : G:\\movie\\Gundam Orphans\\Gundam Orphans - 16.mp4\n",
      "G:\\movie\\Gundam Orphans\\機動戦士ガンダム鉄血のオルフェンス - 17.mp4 : G:\\movie\\Gundam Orphans\\Gundam Orphans - 17.mp4\n",
      "G:\\movie\\Gundam Orphans\\機動戦士ガンダム鉄血のオルフェンス - 18.mp4 : G:\\movie\\Gundam Orphans\\Gundam Orphans - 18.mp4\n",
      "G:\\movie\\Gundam Orphans\\機動戦士ガンダム鉄血のオルフェンス - 19.mp4 : G:\\movie\\Gundam Orphans\\Gundam Orphans - 19.mp4\n",
      "G:\\movie\\Gundam Orphans\\機動戦士ガンダム鉄血のオルフェンス - 20.mp4 : G:\\movie\\Gundam Orphans\\Gundam Orphans - 20.mp4\n",
      "G:\\movie\\Gundam Orphans\\機動戦士ガンダム鉄血のオルフェンス - 21.mp4 : G:\\movie\\Gundam Orphans\\Gundam Orphans - 21.mp4\n",
      "G:\\movie\\Gundam Orphans\\機動戦士ガンダム鉄血のオルフェンス - 22.mp4 : G:\\movie\\Gundam Orphans\\Gundam Orphans - 22.mp4\n",
      "G:\\movie\\Gundam Orphans\\機動戦士ガンダム鉄血のオルフェンス - 23.mp4 : G:\\movie\\Gundam Orphans\\Gundam Orphans - 23.mp4\n",
      "G:\\movie\\Gundam Orphans\\機動戦士ガンダム鉄血のオルフェンス - 24.mp4 : G:\\movie\\Gundam Orphans\\Gundam Orphans - 24.mp4\n",
      "G:\\movie\\Gundam Orphans\\機動戦士ガンダム鉄血のオルフェンス - 25 END.mp4 : G:\\movie\\Gundam Orphans\\Gundam Orphans - 25 END.mp4\n"
     ]
    }
   ],
   "source": [
    "for file in files:\n",
    "    basename = os.path.basename(file)\n",
    "    dirname  = os.path.dirname(file)\n",
    "    newname  = basename.replace('機動戦士ガンダム鉄血のオルフェンス - ','Gundam Orphans - ')\n",
    "    newfile  = os.path.join(dirname,newname)\n",
    "    os.rename(file, newfile)\n",
    "    print(file,':',newfile)"
   ]
  },
  {
   "cell_type": "code",
   "execution_count": null,
   "id": "c0a7d951",
   "metadata": {},
   "outputs": [],
   "source": []
  }
 ],
 "metadata": {
  "kernelspec": {
   "display_name": "Python 3 (ipykernel)",
   "language": "python",
   "name": "python3"
  },
  "language_info": {
   "codemirror_mode": {
    "name": "ipython",
    "version": 3
   },
   "file_extension": ".py",
   "mimetype": "text/x-python",
   "name": "python",
   "nbconvert_exporter": "python",
   "pygments_lexer": "ipython3",
   "version": "3.7.9"
  }
 },
 "nbformat": 4,
 "nbformat_minor": 5
}
