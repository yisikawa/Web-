{
 "cells": [
  {
   "cell_type": "code",
   "execution_count": 8,
   "id": "b356839b-30fe-4185-8c90-c1c73e9e35c2",
   "metadata": {},
   "outputs": [],
   "source": [
    "from selenium import webdriver\n",
    "from time import sleep"
   ]
  },
  {
   "cell_type": "code",
   "execution_count": 9,
   "id": "79d3899d-71df-4eb8-b5db-e2e4caeedd52",
   "metadata": {},
   "outputs": [],
   "source": [
    "driver = webdriver.Chrome()"
   ]
  },
  {
   "cell_type": "code",
   "execution_count": 10,
   "id": "f096796b-8834-4a57-a597-d25c123849b3",
   "metadata": {},
   "outputs": [],
   "source": [
    "url = 'https://www.google.co.jp'\n",
    "driver.get(url)"
   ]
  },
  {
   "cell_type": "code",
   "execution_count": 11,
   "id": "3314dc63-e189-4a18-acc1-37ee7345c2ae",
   "metadata": {},
   "outputs": [],
   "source": [
    "search_bar = driver.find_element_by_name(\"q\")\n",
    "search_bar.send_keys(\"python\")"
   ]
  },
  {
   "cell_type": "code",
   "execution_count": 12,
   "id": "25299776-00be-46b1-9866-5405963fb688",
   "metadata": {},
   "outputs": [],
   "source": [
    "search_bar.submit()"
   ]
  },
  {
   "cell_type": "code",
   "execution_count": 6,
   "id": "120c9033-eb7a-4513-8d5e-b7a9f0a4dc84",
   "metadata": {},
   "outputs": [],
   "source": [
    "driver.quit()"
   ]
  },
  {
   "cell_type": "code",
   "execution_count": null,
   "id": "54e495d5-2d4a-43af-aa7c-2d27c46b77fa",
   "metadata": {},
   "outputs": [],
   "source": []
  }
 ],
 "metadata": {
  "kernelspec": {
   "display_name": "Python 3 (ipykernel)",
   "language": "python",
   "name": "python3"
  },
  "language_info": {
   "codemirror_mode": {
    "name": "ipython",
    "version": 3
   },
   "file_extension": ".py",
   "mimetype": "text/x-python",
   "name": "python",
   "nbconvert_exporter": "python",
   "pygments_lexer": "ipython3",
   "version": "3.7.9"
  }
 },
 "nbformat": 4,
 "nbformat_minor": 5
}
