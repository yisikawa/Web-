{
 "cells": [
  {
   "cell_type": "code",
   "execution_count": 1,
   "id": "6246566b-6b96-4a47-96f2-aa6b2cba581a",
   "metadata": {},
   "outputs": [],
   "source": [
    "import pandas as pd"
   ]
  },
  {
   "cell_type": "code",
   "execution_count": 2,
   "id": "97945bc1-679e-4d07-a358-4beae2fe2891",
   "metadata": {},
   "outputs": [],
   "source": [
    "df = pd.read_csv('output.csv')"
   ]
  },
  {
   "cell_type": "code",
   "execution_count": 31,
   "id": "ef05d00f-e8a5-40d1-a6ce-aa5873b472ac",
   "metadata": {},
   "outputs": [],
   "source": [
    "df_sort = df.sort_values('Freq',ascending=True)"
   ]
  },
  {
   "cell_type": "code",
   "execution_count": 32,
   "id": "8a2593bc-76cd-4802-9995-9315119d3d49",
   "metadata": {
    "tags": []
   },
   "outputs": [],
   "source": [
    "names = [name.split('（')[0] for name in df_sort['Name'].tolist()]\n",
    "links = df_sort['Link'].tolist()"
   ]
  },
  {
   "cell_type": "code",
   "execution_count": 8,
   "id": "5fcafd17-c3cc-48af-b605-928a23339612",
   "metadata": {},
   "outputs": [],
   "source": [
    "from selenium import webdriver\n",
    "import chromedriver_binary\n",
    "from selenium.webdriver.chrome.options import Options\n",
    "\n",
    "options = Options()\n",
    "options.add_argument('--headless')\n",
    "driver = webdriver.Chrome(options=options)\n",
    "\n",
    "driver.get(links[0])\n",
    "driver.find_element_by_link_text('はい').click()\n",
    "    "
   ]
  },
  {
   "cell_type": "code",
   "execution_count": null,
   "id": "fcfc1180-14f4-4f0e-ad77-7d8ae026d555",
   "metadata": {},
   "outputs": [],
   "source": [
    "# 正規表現を使う\n",
    "import re\n",
    "\n",
    "def isint2(s):  # 正規表現を使って判定を行う\n",
    "    p = '[-+]?\\d+'\n",
    "    return True if re.fullmatch(p, s) else False\n",
    "\n",
    "def isfloat2(s):  # 正規表現を使って判定を行う\n",
    "    p = '[-+]?(\\d+\\.?\\d*|\\.\\d+)([eE][-+]?\\d+)?'\n",
    "    return True if re.fullmatch(p, s) else False"
   ]
  },
  {
   "cell_type": "code",
   "execution_count": 29,
   "id": "50c6501e-dcfc-4eab-9233-f50003cea659",
   "metadata": {
    "tags": []
   },
   "outputs": [],
   "source": [
    "def collect_title(name,url):\n",
    "    data = {'Title': [],\n",
    "            'Rate':[],\n",
    "            'Image':[],\n",
    "            'Link':[]}\n",
    "    df = pd.DataFrame(data)\n",
    "    \n",
    "    driver.get(url)\n",
    "    ninzu = driver.find_element_by_class_name('list-boxcaptside.list-boxpagenation').text\n",
    "    num = -(-int(ninzu.split(\"\\u3000\")[0][0:-5].replace(',',''))//120)\n",
    "    for i in range(num):\n",
    "        driver.get(url  + '/page=' + str(i+1))\n",
    "        elements = driver.find_element_by_class_name('d-item').find_elements_by_tag_name('img')\n",
    "\n",
    "        for element in elements:\n",
    "            src = element.get_attribute('src')\n",
    "            alt = element.get_attribute('alt')\n",
    "            rate = element.find_element_by_xpath('../../../..').find_element_by_class_name('rate').text\n",
    "            ref = element.find_element_by_xpath('../..') \n",
    "            link= ref.get_attribute('href')\n",
    "            se = pd.Series([alt,rate,src,link],['Title','Rate','Image','Link'])\n",
    "            df = df.append(se, ignore_index=True)\n",
    "\n",
    "    df.to_csv('../Picture/data/'+name+'.csv',index=False)   "
   ]
  },
  {
   "cell_type": "code",
   "execution_count": null,
   "id": "ca9c3805-d657-4515-a646-617e78796589",
   "metadata": {
    "tags": []
   },
   "outputs": [],
   "source": [
    "for i in range(0,len(links)):\n",
    "    collect_title(names[i],links[i])"
   ]
  },
  {
   "cell_type": "code",
   "execution_count": null,
   "id": "2b4bd331-5d33-4bb2-a69a-7f7c49466f6b",
   "metadata": {},
   "outputs": [],
   "source": []
  }
 ],
 "metadata": {
  "kernelspec": {
   "display_name": "Python 3 (ipykernel)",
   "language": "python",
   "name": "python3"
  },
  "language_info": {
   "codemirror_mode": {
    "name": "ipython",
    "version": 3
   },
   "file_extension": ".py",
   "mimetype": "text/x-python",
   "name": "python",
   "nbconvert_exporter": "python",
   "pygments_lexer": "ipython3",
   "version": "3.7.9"
  }
 },
 "nbformat": 4,
 "nbformat_minor": 5
}
