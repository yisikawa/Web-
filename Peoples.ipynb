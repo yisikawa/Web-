{
 "cells": [
  {
   "cell_type": "code",
   "execution_count": null,
   "id": "6256e60a",
   "metadata": {},
   "outputs": [],
   "source": [
    "# !pip install torch==1.9.1+cu111 torchvision==0.10.1+cu111 torchaudio===0.9.1 -f https://download.pytorch.org/whl/torch_stable.html"
   ]
  },
  {
   "cell_type": "code",
   "execution_count": 1,
   "id": "fe359846",
   "metadata": {},
   "outputs": [],
   "source": [
    "from IPython import display\n",
    "\n",
    "def imshow(img):\n",
    "    \"\"\"ndarray 配列をインラインで Notebook 上に表示する。\n",
    "    \"\"\"\n",
    "    ret, encoded = cv2.imencode(\".jpg\", img)\n",
    "    display.display(display.Image(encoded))"
   ]
  },
  {
   "cell_type": "code",
   "execution_count": 8,
   "id": "fc634789",
   "metadata": {},
   "outputs": [
    {
     "name": "stdout",
     "output_type": "stream",
     "text": [
      "data\\mask_000003.jpg\n"
     ]
    }
   ],
   "source": [
    "import glob\n",
    "import os\n",
    "\n",
    "files = glob.glob('data/*.jpg')\n",
    "img_re = os.path.join(os.path.dirname(files[0]),'mask_'+os.path.basename(files[0]))\n",
    "print(img_re)"
   ]
  },
  {
   "cell_type": "code",
   "execution_count": null,
   "id": "cc39d426",
   "metadata": {
    "scrolled": true
   },
   "outputs": [],
   "source": [
    "\n",
    "import cv2\n",
    "import numpy as np\n",
    "import torch\n",
    "import torchvision\n",
    "from PIL import Image\n",
    "from torchvision import models as models\n",
    "from torchvision import transforms as transforms\n",
    "\n",
    "device = torch.device(\"cuda\" if torch.cuda.is_available() else \"cpu\")\n",
    "PERSON_ID = 1\n",
    "\n",
    "# モデルを作成する。\n",
    "model = models.detection.maskrcnn_resnet50_fpn(pretrained=True).to(device)\n",
    "model.eval()\n",
    "\n",
    "# 画像を読み込む。\n",
    "\n",
    "for file in files:\n",
    "    img = Image.open(file)\n",
    "    img_tensor = transforms.functional.to_tensor(img).to(device)\n",
    "\n",
    "    # 推論する。\n",
    "    output = model([img_tensor])[0]\n",
    "\n",
    "    # ラベル 人 のマスクを取り出す。\n",
    "    person_scores = output[\"masks\"][output[\"labels\"] == PERSON_ID, 0]\n",
    "    person_score = person_scores.max(dim=0)[0]\n",
    "\n",
    "    mask = person_score >= 0.7\n",
    "    mask = mask.cpu().detach().numpy()\n",
    "\n",
    "    # アルファチャンネル追加\n",
    "    dst = cv2.cvtColor(np.array(img), cv2.COLOR_RGB2BGRA)\n",
    "\n",
    "\n",
    "    # mask の値が0のピクセルは透過する。\n",
    "    dst[mask == 0] = 0\n",
    "    imshow(dst)\n",
    "#     fname = os.path.join(os.path.dirname(file),'mask_'+os.path.basename(file))\n",
    "#     cv2.imwrite(fname, dst)"
   ]
  },
  {
   "cell_type": "code",
   "execution_count": null,
   "id": "2b7677e2",
   "metadata": {},
   "outputs": [],
   "source": []
  }
 ],
 "metadata": {
  "kernelspec": {
   "display_name": "Python 3 (ipykernel)",
   "language": "python",
   "name": "python3"
  },
  "language_info": {
   "codemirror_mode": {
    "name": "ipython",
    "version": 3
   },
   "file_extension": ".py",
   "mimetype": "text/x-python",
   "name": "python",
   "nbconvert_exporter": "python",
   "pygments_lexer": "ipython3",
   "version": "3.7.9"
  }
 },
 "nbformat": 4,
 "nbformat_minor": 5
}
