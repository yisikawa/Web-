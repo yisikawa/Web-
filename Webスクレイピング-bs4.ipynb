{
 "cells": [
  {
   "cell_type": "markdown",
   "id": "7b9ad6f1",
   "metadata": {},
   "source": [
    "## Webページ内のデータを自動抽出\n",
    "## （Beautiful Soup編）\n",
    "- Webページの情報を取得\n",
    "- Beautiful Soupで構造解析\n",
    "- Beautiful Soupでデータ取得"
   ]
  },
  {
   "cell_type": "code",
   "execution_count": null,
   "id": "1cefa867",
   "metadata": {
    "scrolled": true
   },
   "outputs": [],
   "source": [
    "!pip install requests"
   ]
  },
  {
   "cell_type": "code",
   "execution_count": null,
   "id": "f2744659",
   "metadata": {
    "scrolled": true
   },
   "outputs": [],
   "source": [
    "!pip install BeautifulSoup4"
   ]
  },
  {
   "cell_type": "code",
   "execution_count": null,
   "id": "c8b3be5c",
   "metadata": {
    "scrolled": true
   },
   "outputs": [],
   "source": [
    "import requests\n",
    "from bs4 import BeautifulSoup"
   ]
  },
  {
   "cell_type": "code",
   "execution_count": null,
   "id": "a374a2bc",
   "metadata": {
    "scrolled": true
   },
   "outputs": [],
   "source": [
    "url = 'https://scraping-for-beginner.herokuapp.com/udemy'\n",
    "res = requests.get(url)"
   ]
  },
  {
   "cell_type": "code",
   "execution_count": null,
   "id": "15e3b6cf",
   "metadata": {
    "scrolled": true
   },
   "outputs": [],
   "source": [
    "soup = BeautifulSoup(res.text,'html.parser')"
   ]
  },
  {
   "cell_type": "code",
   "execution_count": null,
   "id": "f304bb6b",
   "metadata": {
    "scrolled": true
   },
   "outputs": [],
   "source": [
    "print(soup.prettify())"
   ]
  },
  {
   "cell_type": "markdown",
   "id": "467b8a00",
   "metadata": {},
   "source": [
    "### find_all():「要素名」に続いて「属性」を引数で指定"
   ]
  },
  {
   "cell_type": "code",
   "execution_count": null,
   "id": "a50a0e60",
   "metadata": {
    "scrolled": true
   },
   "outputs": [],
   "source": [
    "subscribers = soup.find_all('p',attrs={'class':'subscribers'})\n",
    "\n",
    "subscribers[0].text"
   ]
  },
  {
   "cell_type": "code",
   "execution_count": null,
   "id": "76d9e188",
   "metadata": {
    "scrolled": true
   },
   "outputs": [],
   "source": [
    "reviews = soup.find_all('p',attrs={'class':'reviews'})\n",
    "reviews[0].text"
   ]
  },
  {
   "cell_type": "markdown",
   "id": "e41c378c",
   "metadata": {},
   "source": [
    "### select(): 「CSSセレクタ」で指定"
   ]
  },
  {
   "cell_type": "code",
   "execution_count": null,
   "id": "b4ebf104",
   "metadata": {
    "scrolled": true
   },
   "outputs": [],
   "source": [
    "soup.select_one('.subscribers').text"
   ]
  },
  {
   "cell_type": "code",
   "execution_count": null,
   "id": "ed913a67",
   "metadata": {
    "scrolled": true
   },
   "outputs": [],
   "source": [
    "soup.select_one('.reviews').text"
   ]
  },
  {
   "cell_type": "markdown",
   "id": "5d8c0207",
   "metadata": {},
   "source": [
    "## ランキングサイト掲載情報を自動取得\n",
    "- Webページの情報を取得\n",
    "- １つの観光地情報を取得\n",
    "- すべての観光地情報を取得\n",
    "- csvファイルに出力"
   ]
  },
  {
   "cell_type": "code",
   "execution_count": null,
   "id": "aae44055",
   "metadata": {
    "scrolled": true
   },
   "outputs": [],
   "source": [
    "import requests\n",
    "from bs4 import BeautifulSoup"
   ]
  },
  {
   "cell_type": "code",
   "execution_count": null,
   "id": "50c6977c",
   "metadata": {
    "scrolled": true
   },
   "outputs": [],
   "source": [
    "url='https://scraping-for-beginner.herokuapp.com/ranking/'\n",
    "res = requests.get(url)"
   ]
  },
  {
   "cell_type": "code",
   "execution_count": null,
   "id": "59eae31e",
   "metadata": {
    "scrolled": true
   },
   "outputs": [],
   "source": [
    "soup = BeautifulSoup(res.text,'html.parser')"
   ]
  },
  {
   "cell_type": "markdown",
   "id": "f36395ba",
   "metadata": {},
   "source": [
    "## １つの観光地情報を取得する"
   ]
  },
  {
   "cell_type": "code",
   "execution_count": null,
   "id": "8b6b445e",
   "metadata": {
    "scrolled": true
   },
   "outputs": [],
   "source": [
    "spots = soup.find_all('div',attrs={'class':'u_areaListRankingBox'})"
   ]
  },
  {
   "cell_type": "code",
   "execution_count": null,
   "id": "96880c2f",
   "metadata": {
    "scrolled": true
   },
   "outputs": [],
   "source": [
    "spot = spots[0]\n",
    "spot_name = spot.find('div',attrs={'class':'u_title'})"
   ]
  },
  {
   "cell_type": "code",
   "execution_count": null,
   "id": "2f2af264",
   "metadata": {
    "scrolled": true
   },
   "outputs": [],
   "source": [
    "spot_name.find('span',attrs={'class':'badge'}).extract()"
   ]
  },
  {
   "cell_type": "code",
   "execution_count": null,
   "id": "ee1360a8",
   "metadata": {
    "scrolled": true
   },
   "outputs": [],
   "source": [
    "spot_name = spot_name.text.replace('\\n','')\n",
    "spot_name"
   ]
  },
  {
   "cell_type": "code",
   "execution_count": null,
   "id": "b2dabf6f",
   "metadata": {
    "scrolled": true
   },
   "outputs": [],
   "source": [
    "spot_rank = spot.find('div',attrs={'class':'u_rankBox'})\n",
    "eval_num = float(spot_rank.text.replace('\\n',''))\n",
    "eval_num"
   ]
  },
  {
   "cell_type": "code",
   "execution_count": null,
   "id": "4c48118e",
   "metadata": {
    "scrolled": true
   },
   "outputs": [],
   "source": [
    "categoryItems = spot.find('div',attrs={'class':'u_categoryTipsItem'})"
   ]
  },
  {
   "cell_type": "code",
   "execution_count": null,
   "id": "8858ce9b",
   "metadata": {
    "scrolled": true
   },
   "outputs": [],
   "source": [
    "categoryItems = categoryItems.find_all('dl')\n",
    "categoryItems"
   ]
  },
  {
   "cell_type": "code",
   "execution_count": null,
   "id": "8f6ae2c1",
   "metadata": {
    "scrolled": true
   },
   "outputs": [],
   "source": [
    "categoryItem = categoryItems[3]\n",
    "print(categoryItem.dt.text)\n",
    "print(categoryItem.span.text)"
   ]
  },
  {
   "cell_type": "code",
   "execution_count": null,
   "id": "6a6af14c",
   "metadata": {
    "scrolled": true
   },
   "outputs": [],
   "source": [
    "details = {}\n",
    "for categoryItem in categoryItems:\n",
    "    details[categoryItem.dt.text]=float(categoryItem.span.text)\n",
    "details"
   ]
  },
  {
   "cell_type": "code",
   "execution_count": null,
   "id": "39f5864d",
   "metadata": {
    "scrolled": true
   },
   "outputs": [],
   "source": [
    "datum = details\n",
    "datum['観光地名']=spot_name\n",
    "datum['評価'] = eval_num"
   ]
  },
  {
   "cell_type": "code",
   "execution_count": null,
   "id": "af51785a",
   "metadata": {
    "scrolled": true
   },
   "outputs": [],
   "source": [
    "datum"
   ]
  },
  {
   "cell_type": "code",
   "execution_count": null,
   "id": "5d8db3e0",
   "metadata": {
    "scrolled": true
   },
   "outputs": [],
   "source": [
    "soup = BeautifulSoup(res.text,'html.parser')\n",
    "spots = soup.find_all('div',attrs={'class':'u_areaListRankingBox'})\n",
    "tourlistSpots=[]\n",
    "for spot in spots:\n",
    "    datum = {}\n",
    "    spot_name = spot.find('div',attrs={'class':'u_title'})\n",
    "    spot_name.find('span',attrs={'class':'badge'}).extract()\n",
    "    spot_name = spot_name.text.replace('\\n','')\n",
    "    datum['観光地名']=spot_name\n",
    "    spot_rank = spot.find('div',attrs={'class':'u_rankBox'})\n",
    "    eval_num = float(spot_rank.text.replace('\\n',''))\n",
    "    datum['評価']=eval_num\n",
    "    categoryItems = spot.find('div',attrs={'class':'u_categoryTipsItem'})\n",
    "    categoryItems = categoryItems.find_all('dl')\n",
    "    for categoryItem in categoryItems:\n",
    "        datum[categoryItem.dt.text]=float(categoryItem.span.text)\n",
    "    tourlistSpots.append(datum)\n",
    "tourlistSpots"
   ]
  },
  {
   "cell_type": "code",
   "execution_count": null,
   "id": "3d542a2c",
   "metadata": {
    "scrolled": true
   },
   "outputs": [],
   "source": [
    "import pandas as pd\n",
    "\n",
    "df = pd.DataFrame(tourlistSpots)\n",
    "df"
   ]
  },
  {
   "cell_type": "code",
   "execution_count": null,
   "id": "d8075c54",
   "metadata": {},
   "outputs": [],
   "source": [
    "df.to_csv('観光地情報.csv',index=False)"
   ]
  },
  {
   "cell_type": "markdown",
   "id": "2e8fb96c",
   "metadata": {},
   "source": [
    "## Webページ上の画像を自動で取得\n",
    "- １枚の画像を取得＆保存\n",
    "- 複数の画像を取得＆保存"
   ]
  },
  {
   "cell_type": "code",
   "execution_count": 101,
   "id": "f140bbb3",
   "metadata": {},
   "outputs": [],
   "source": [
    "from bs4 import BeautifulSoup\n",
    "import requests"
   ]
  },
  {
   "cell_type": "code",
   "execution_count": 104,
   "id": "c7b65d07",
   "metadata": {},
   "outputs": [
    {
     "data": {
      "text/plain": [
       "<Response [200]>"
      ]
     },
     "execution_count": 104,
     "metadata": {},
     "output_type": "execute_result"
    }
   ],
   "source": [
    "url = 'https://scraping-for-beginner.herokuapp.com/image'\n",
    "res = requests.get(url)\n",
    "res"
   ]
  },
  {
   "cell_type": "code",
   "execution_count": 108,
   "id": "2d51612b",
   "metadata": {},
   "outputs": [],
   "source": [
    "soup = BeautifulSoup(res.text,'html.parser')"
   ]
  },
  {
   "cell_type": "code",
   "execution_count": 111,
   "id": "769fe65f",
   "metadata": {},
   "outputs": [
    {
     "data": {
      "text/plain": [
       "<img class=\"materialbox responsive-img card\" src=\"/static/assets/img/img1.JPG\"/>"
      ]
     },
     "execution_count": 111,
     "metadata": {},
     "output_type": "execute_result"
    }
   ],
   "source": [
    "img_tag = soup.find('img')\n",
    "img_tag"
   ]
  },
  {
   "cell_type": "code",
   "execution_count": 112,
   "id": "15ec041e",
   "metadata": {},
   "outputs": [
    {
     "data": {
      "text/plain": [
       "'/static/assets/img/img1.JPG'"
      ]
     },
     "execution_count": 112,
     "metadata": {},
     "output_type": "execute_result"
    }
   ],
   "source": [
    "img_tag['src']"
   ]
  },
  {
   "cell_type": "code",
   "execution_count": 114,
   "id": "443e5b95",
   "metadata": {},
   "outputs": [],
   "source": [
    "root_url = 'https://scraping-for-beginner.herokuapp.com'\n",
    "img_url = root_url+img_tag['src']"
   ]
  },
  {
   "cell_type": "code",
   "execution_count": 115,
   "id": "cf82f594",
   "metadata": {},
   "outputs": [],
   "source": [
    "from PIL import Image\n",
    "import io"
   ]
  },
  {
   "cell_type": "code",
   "execution_count": 118,
   "id": "cee2bf0e",
   "metadata": {},
   "outputs": [],
   "source": [
    "img = Image.open(io.BytesIO(requests.get(img_url).content))\n",
    "img.save('img/sample.jpg')"
   ]
  },
  {
   "cell_type": "code",
   "execution_count": 124,
   "id": "35a6f2ee",
   "metadata": {},
   "outputs": [],
   "source": [
    "from PIL import Image\n",
    "import io\n",
    "\n",
    "root_url = 'https://scraping-for-beginner.herokuapp.com'\n",
    "soup = BeautifulSoup(res.text,'html.parser')\n",
    "img_tags = soup.find_all('img')\n",
    "for i,img_tag in enumerate(img_tags):\n",
    "    img_url = root_url+img_tag['src']\n",
    "    img = Image.open(io.BytesIO(requests.get(img_url).content))\n",
    "    img.save(f'img/sample{i+1}.jpg')"
   ]
  },
  {
   "cell_type": "code",
   "execution_count": null,
   "id": "3ca19762",
   "metadata": {},
   "outputs": [],
   "source": []
  }
 ],
 "metadata": {
  "kernelspec": {
   "display_name": "Python 3 (ipykernel)",
   "language": "python",
   "name": "python3"
  },
  "language_info": {
   "codemirror_mode": {
    "name": "ipython",
    "version": 3
   },
   "file_extension": ".py",
   "mimetype": "text/x-python",
   "name": "python",
   "nbconvert_exporter": "python",
   "pygments_lexer": "ipython3",
   "version": "3.7.9"
  }
 },
 "nbformat": 4,
 "nbformat_minor": 5
}
