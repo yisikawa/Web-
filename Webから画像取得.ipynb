{
 "cells": [
  {
   "cell_type": "code",
   "execution_count": null,
   "metadata": {
    "id": "BHhgY_RMVblo"
   },
   "outputs": [],
   "source": [
    "# 必要な機能のインストール\n",
    "# !pip install icrawler"
   ]
  },
  {
   "cell_type": "code",
   "execution_count": 9,
   "metadata": {
    "id": "e2sXJUqXVhdl"
   },
   "outputs": [],
   "source": [
    "# 必要な機能の読込\n",
    "from icrawler.builtin import GoogleImageCrawler"
   ]
  },
  {
   "cell_type": "code",
   "execution_count": 11,
   "metadata": {
    "id": "ePAzMcyogMBU"
   },
   "outputs": [
    {
     "name": "stderr",
     "output_type": "stream",
     "text": [
      "2021-10-19 17:03:53,096 - INFO - icrawler.crawler - start crawling...\n",
      "2021-10-19 17:03:53,097 - INFO - icrawler.crawler - starting 1 feeder threads...\n",
      "2021-10-19 17:03:53,099 - INFO - icrawler.crawler - starting 1 parser threads...\n",
      "2021-10-19 17:03:53,101 - INFO - icrawler.crawler - starting 4 downloader threads...\n",
      "2021-10-19 17:03:54,193 - INFO - parser - parsing result page https://www.google.com/search?q=female&ijn=0&start=0&tbs=itp%3Aphoto%2Cic%3Acolor%2Cisz%3Am%2Csur%3Afmc&tbm=isch\n",
      "2021-10-19 17:03:54,711 - INFO - downloader - image #1\thttps://cdn.pixabay.com/photo/2020/10/18/12/37/girl-5664677_960_720.png\n",
      "2021-10-19 17:03:54,923 - INFO - downloader - image #2\thttps://upload.wikimedia.org/wikipedia/commons/b/bd/Woman-female-symbol.jpg\n",
      "2021-10-19 17:03:55,278 - INFO - downloader - image #3\thttps://p0.pikist.com/photos/714/451/woman-female-lake-water-beauty-model-graphy-thumbnail.jpg\n",
      "2021-10-19 17:03:55,443 - INFO - downloader - image #4\thttps://cdn.pixabay.com/photo/2019/01/10/22/02/woman-3926132_960_720.jpg\n",
      "2021-10-19 17:03:56,152 - INFO - downloader - image #5\thttps://publicdomainvectors.org/photos/Faceless-Female-Avatar.png\n",
      "2021-10-19 17:03:56,256 - INFO - downloader - image #6\thttps://cdn.pixabay.com/photo/2019/08/20/00/14/female-4417503_960_720.png\n",
      "2021-10-19 17:03:56,578 - INFO - downloader - image #7\thttps://www.maxpixel.net/static/photo/1x/Gaze-Young-Woman-Wolf-Female-Girl-Portrait-Woman-5855439.jpg\n",
      "2021-10-19 17:03:56,581 - INFO - downloader - image #8\thttps://cdn.pixabay.com/photo/2019/04/26/15/00/model-4157758_960_720.jpg\n",
      "2021-10-19 17:03:56,924 - ERROR - downloader - Response status code 404, file https://upload.wikimedia.org/wikipedia/commons/thumb/9/99/Female_neck.jpg\n",
      "2021-10-19 17:03:57,244 - INFO - downloader - image #9\thttps://freesvg.org/img/Prismatic-Geometric-Female-Sign.png\n",
      "2021-10-19 17:03:57,516 - INFO - downloader - image #10\thttps://c1.wallpaperflare.com/preview/889/1021/186/female-woman-young-beauty.jpg\n",
      "2021-10-19 17:03:57,674 - INFO - downloader - image #11\thttps://upload.wikimedia.org/wikipedia/en/8/88/Female_ladybug.jpg\n",
      "2021-10-19 17:03:58,098 - INFO - downloader - image #12\thttps://freesvg.org/img/CDC-femaledoc.png\n",
      "2021-10-19 17:03:58,534 - INFO - downloader - image #13\thttps://c1.wallpaperflare.com/preview/341/178/419/adorable-child-cute-female.jpg\n",
      "2021-10-19 17:03:58,569 - INFO - downloader - image #14\thttps://live.staticflickr.com/8508/8551373629_19e823fdda_b.jpg\n",
      "2021-10-19 17:03:58,583 - INFO - downloader - image #15\thttps://live.staticflickr.com/8007/7658059424_ae2bbab572_b.jpg\n",
      "2021-10-19 17:03:58,915 - ERROR - downloader - Response status code 404, file https://upload.wikimedia.org/wikipedia/commons/thumb/b/b1/Ranini_Cundasawmy_Mauritian_Female_Fighter.jpg\n",
      "2021-10-19 17:03:58,922 - INFO - downloader - image #16\thttps://p0.pikist.com/photos/436/326/elegant-woman-deep-thought-thinking-concerned-hands-clasped-pray-female-people.jpg\n",
      "2021-10-19 17:03:59,001 - INFO - downloader - image #17\thttps://cdn.pixabay.com/photo/2017/03/03/23/44/womens-power-2115247_960_720.png\n",
      "2021-10-19 17:03:59,261 - ERROR - downloader - Response status code 404, file https://upload.wikimedia.org/wikipedia/commons/thumb/5/51/Female_Pleasure_Movie_Poster_%282018%29.jpg\n",
      "2021-10-19 17:03:59,642 - INFO - downloader - image #18\thttps://p1.pxfuel.com/preview/215/690/484/indian-model-female-fashion-woman-portrait-royalty-free-thumbnail.jpg\n",
      "2021-10-19 17:04:00,462 - INFO - downloader - image #19\thttps://c0.wallpaperflare.com/preview/75/112/968/addiction-adult-female-habit.jpg\n",
      "2021-10-19 17:04:00,486 - INFO - downloader - image #20\thttps://p0.pikist.com/photos/403/426/pretty-smile-happy-girl-young-female-woman-portrait-people.jpg\n",
      "2021-10-19 17:04:00,794 - INFO - downloader - image #21\thttps://live.staticflickr.com/65535/48300922412_870f214afc_b.jpg\n",
      "2021-10-19 17:04:00,839 - ERROR - downloader - Response status code 404, file https://upload.wikimedia.org/wikipedia/commons/thumb/7/72/Common_blackbird_%28Turdus_merula_mauretanicus%29_female.jpg\n",
      "2021-10-19 17:04:00,900 - INFO - downloader - image #22\thttps://freesvg.org/img/Female-Symbol-Gold.png\n",
      "2021-10-19 17:04:01,012 - INFO - downloader - image #23\thttps://www.publicdomainpictures.net/pictures/380000/nahled/the-future-is-female.jpg\n",
      "2021-10-19 17:04:01,290 - INFO - downloader - image #24\thttps://upload.wikimedia.org/wikipedia/commons/a/a4/Paradise_fish_female_and_male_01.jpg\n",
      "2021-10-19 17:04:01,431 - INFO - downloader - image #25\thttps://p1.pxfuel.com/preview/466/979/633/indian-girl-happy-girl-smile-female-face-model-royalty-free-thumbnail.jpg\n",
      "2021-10-19 17:04:01,845 - INFO - downloader - image #26\thttps://publicdomainvectors.org/photos/dagobert83_female_user_icon.png\n",
      "2021-10-19 17:04:02,593 - INFO - downloader - image #27\thttps://www.publicdomainpictures.net/pictures/370000/nahled/male-and-female-turkey.jpg\n",
      "2021-10-19 17:04:02,740 - INFO - downloader - image #28\thttps://p0.pikist.com/photos/83/431/girl-fashion-makeup-beauty-model-woman-female-glamour-thumbnail.jpg\n",
      "2021-10-19 17:04:02,894 - INFO - downloader - image #29\thttps://www.maxpixel.net/static/photo/1x/Style-Dress-Fashion-Female-Model-Girl-Woman-6269346.jpg\n",
      "2021-10-19 17:04:03,150 - INFO - downloader - image #30\thttps://cdn.pixabay.com/photo/2020/10/08/00/01/female-5636455_960_720.png\n",
      "2021-10-19 17:04:03,469 - INFO - downloader - image #31\thttps://freesvg.org/img/vm.png\n",
      "2021-10-19 17:04:03,492 - INFO - downloader - image #32\thttps://live.staticflickr.com/4266/35377820271_4e41792e6d_b.jpg\n",
      "2021-10-19 17:04:04,051 - INFO - downloader - image #33\thttps://www.armyupress.army.mil/Portals/7/nco-journal/images/2019/October/FET/FET-Feature.jpg\n",
      "2021-10-19 17:04:04,117 - INFO - downloader - image #34\thttps://c0.wallpaperflare.com/preview/981/151/713/beautiful-exotic-female-fern.jpg\n",
      "2021-10-19 17:04:04,716 - INFO - downloader - image #35\thttps://p1.pxfuel.com/preview/821/781/307/cute-girl-indian-girl-happy-girl-smile-female-face-royalty-free-thumbnail.jpg\n",
      "2021-10-19 17:04:04,797 - INFO - downloader - image #36\thttps://upload.wikimedia.org/wikipedia/commons/b/b1/Bloodhound-Female.jpg\n",
      "2021-10-19 17:04:05,132 - INFO - downloader - image #37\thttps://www.publicdomainpictures.net/pictures/340000/nahled/female-cyclist-portrait-1589548577fFi.jpg\n",
      "2021-10-19 17:04:05,422 - INFO - downloader - image #38\thttps://p0.pikist.com/photos/758/784/lips-smoke-female-woman-face-beautiful-cigarette-girl-fashion-thumbnail.jpg\n",
      "2021-10-19 17:04:05,770 - INFO - downloader - image #39\thttps://cdn.pixabay.com/photo/2020/03/03/16/53/female-4899174_960_720.jpg\n",
      "2021-10-19 17:04:06,283 - INFO - downloader - image #40\thttps://www.maxpixel.net/static/photo/1x/Businesswoman-Female-Female-Icon-Woman-Girl-Avatar-5653676.jpg\n",
      "2021-10-19 17:04:06,551 - INFO - downloader - image #41\thttps://freesvg.org/img/Female-Glamour-Portrait-2nd-Attempt.png\n",
      "2021-10-19 17:04:07,047 - INFO - downloader - image #42\thttps://upload.wikimedia.org/wikipedia/commons/2/27/A_FEMALE_TURKISH_BATH_OR_HAMMAM.png\n",
      "2021-10-19 17:04:07,079 - INFO - downloader - image #43\thttps://upload.wikimedia.org/wikipedia/commons/5/5b/Trogon_clathratus_-_%28female%29_-Costa_Rica-6.jpg\n",
      "2021-10-19 17:04:07,183 - INFO - downloader - image #44\thttps://c0.wallpaperflare.com/preview/77/403/798/portrait-female-lady-girl.jpg\n",
      "2021-10-19 17:04:07,230 - INFO - downloader - image #45\thttps://militarycouncil.ca.gov/wp-content/uploads/sites/81/2019/01/Gibson-Promotion_Navy-SAR-Swimmer.jpg\n",
      "2021-10-19 17:04:07,407 - INFO - downloader - image #46\thttps://upload.wikimedia.org/wikipedia/commons/e/ee/Female_baby.jpg\n",
      "2021-10-19 17:04:08,346 - INFO - downloader - image #47\thttps://www.publicdomainpictures.net/pictures/340000/nahled/female-cyclist-portrait-1589546650sgJ.jpg\n",
      "2021-10-19 17:04:08,355 - INFO - downloader - image #48\thttps://www.maxpixel.net/static/photo/1x/Female-Long-Coat-Vietnam-City-Nice-Asia-Woman-5796184.jpg\n",
      "2021-10-19 17:04:08,587 - INFO - downloader - image #49\thttps://p1.pxfuel.com/preview/432/491/677/female-grapher-grapher-professional-latina-royalty-free-thumbnail.jpg\n",
      "2021-10-19 17:04:09,461 - INFO - downloader - image #50\thttps://cdn.pixabay.com/photo/2020/03/03/16/55/female-4899186_960_720.jpg\n",
      "2021-10-19 17:04:09,617 - INFO - downloader - image #51\thttps://c1.wallpaperflare.com/preview/254/1/231/portrait-kids-girl-female.jpg\n"
     ]
    },
    {
     "name": "stderr",
     "output_type": "stream",
     "text": [
      "2021-10-19 17:04:09,803 - INFO - downloader - image #52\thttps://live.staticflickr.com/3295/2780198461_7f9a3f1113_b.jpg\n",
      "2021-10-19 17:04:09,948 - INFO - downloader - image #53\thttps://p0.pikist.com/photos/79/962/woman-female-beauty-model-nature-graphy-thumbnail.jpg\n",
      "2021-10-19 17:04:10,506 - INFO - downloader - image #54\thttps://api.army.mil/e2/c/images/2021/03/18/c11369fe/max1200.jpg\n",
      "2021-10-19 17:04:10,811 - ERROR - downloader - Response status code 404, file https://upload.wikimedia.org/wikipedia/commons/thumb/1/1e/Forest_Mosquitohawk_%28female%29_9876.jpg\n",
      "2021-10-19 17:04:10,837 - INFO - downloader - image #55\thttps://publicdomainvectors.org/photos/Female-cartoon-avatar.png\n",
      "2021-10-19 17:04:11,201 - ERROR - downloader - Response status code 404, file https://upload.wikimedia.org/wikipedia/commons/thumb/3/39/Siberian_rubythroat_%28female%29.jpg\n",
      "2021-10-19 17:04:11,913 - INFO - downloader - image #56\thttps://p0.pikist.com/photos/180/416/gothic-goth-dark-fantasy-woman-girl-female-young-beauty.jpg\n",
      "2021-10-19 17:04:12,798 - INFO - downloader - image #57\thttps://www.maxpixels.net/static/photo/1x/People-Young-Portrait-Girl-Female-Person-Model-4405670.jpg\n",
      "2021-10-19 17:04:13,161 - INFO - downloader - image #58\thttps://cdn.pixabay.com/photo/2020/03/03/16/54/female-4899182_960_720.jpg\n",
      "2021-10-19 17:04:13,228 - INFO - downloader - image #59\thttps://freesvg.org/img/female-silhouette.png\n",
      "2021-10-19 17:04:14,300 - INFO - downloader - image #60\thttps://c0.wallpaperflare.com/preview/946/947/750/woman-female-tattoo-weight.jpg\n",
      "2021-10-19 17:04:14,541 - INFO - downloader - image #61\thttps://www.maxpixel.net/static/photo/1x/Red-Woman-Young-Jumper-Lying-Down-Female-Girl-858729.jpg\n",
      "2021-10-19 17:04:14,862 - INFO - downloader - image #62\thttps://live.staticflickr.com/65535/51096297625_c459ded1ea_b.jpg\n",
      "2021-10-19 17:04:15,259 - INFO - downloader - image #63\thttps://www.publicdomainpictures.net/pictures/400000/nahled/female-worker-1622457608Q95.jpg\n",
      "2021-10-19 17:04:15,485 - INFO - downloader - image #64\thttps://p1.pxfuel.com/preview/927/603/617/young-lady-female-girl-woman-toy.jpg\n",
      "2021-10-19 17:04:15,549 - ERROR - downloader - Exception caught when downloading file https://www.nps.gov/articles/000/images/20200729_083902.jpg, error: HTTPSConnectionPool(host='www.nps.gov', port=443): Read timed out. (read timeout=5), remaining retry times: 2\n",
      "2021-10-19 17:04:15,991 - ERROR - downloader - Response status code 404, file https://upload.wikimedia.org/wikipedia/commons/thumb/1/14/Lesser_Kestrel_%28female%29.jpg\n",
      "2021-10-19 17:04:16,405 - INFO - parser - parsing result page https://www.google.com/search?q=female&ijn=1&start=100&tbs=itp%3Aphoto%2Cic%3Acolor%2Cisz%3Am%2Csur%3Afmc&tbm=isch\n",
      "2021-10-19 17:04:16,406 - INFO - downloader - image #65\thttps://upload.wikimedia.org/wikipedia/commons/7/7a/Knob-billed_Duck_%28female%29_I_IMG_0985.jpg\n",
      "2021-10-19 17:04:16,422 - INFO - downloader - image #66\thttps://p1.pikrepo.com/preview/643/112/wood-with-male-and-female-painting.jpg\n",
      "2021-10-19 17:04:17,167 - ERROR - downloader - Exception caught when downloading file https://www.nps.gov/articles/000/images/20200729_084641.jpg, error: HTTPSConnectionPool(host='www.nps.gov', port=443): Read timed out. (read timeout=5), remaining retry times: 2\n",
      "2021-10-19 17:04:17,191 - INFO - parser - parsing result page https://www.google.com/search?q=female&ijn=2&start=200&tbs=itp%3Aphoto%2Cic%3Acolor%2Cisz%3Am%2Csur%3Afmc&tbm=isch\n",
      "2021-10-19 17:04:17,735 - INFO - downloader - image #67\thttps://p0.pikist.com/photos/405/419/birds-pigeons-animals-homing-pigeons-female-bird-male-bird-female-pigeon.jpg\n",
      "2021-10-19 17:04:17,945 - INFO - parser - parsing result page https://www.google.com/search?q=female&ijn=3&start=300&tbs=itp%3Aphoto%2Cic%3Acolor%2Cisz%3Am%2Csur%3Afmc&tbm=isch\n",
      "2021-10-19 17:04:17,999 - INFO - feeder - thread feeder-001 exit\n",
      "2021-10-19 17:04:18,710 - INFO - parser - parsing result page https://www.google.com/search?q=female&ijn=4&start=400&tbs=itp%3Aphoto%2Cic%3Acolor%2Cisz%3Am%2Csur%3Afmc&tbm=isch\n",
      "2021-10-19 17:04:18,959 - INFO - downloader - image #68\thttps://c1.wallpaperflare.com/preview/155/59/824/female-photos-girl-public-domain.jpg\n",
      "2021-10-19 17:04:19,215 - INFO - downloader - image #69\thttps://www.maxpixel.net/static/photo/1x/Tree-Nature-Female-Young-Portrait-Girl-Woman-4556061.jpg\n",
      "2021-10-19 17:04:19,512 - INFO - parser - parsing result page https://www.google.com/search?q=female&ijn=5&start=500&tbs=itp%3Aphoto%2Cic%3Acolor%2Cisz%3Am%2Csur%3Afmc&tbm=isch\n",
      "2021-10-19 17:04:20,241 - INFO - parser - parsing result page https://www.google.com/search?q=female&ijn=6&start=600&tbs=itp%3Aphoto%2Cic%3Acolor%2Cisz%3Am%2Csur%3Afmc&tbm=isch\n",
      "2021-10-19 17:04:20,815 - ERROR - downloader - Exception caught when downloading file https://www.nps.gov/articles/000/images/20200729_083902.jpg, error: HTTPSConnectionPool(host='www.nps.gov', port=443): Read timed out. (read timeout=5), remaining retry times: 1\n",
      "2021-10-19 17:04:21,004 - INFO - parser - parsing result page https://www.google.com/search?q=female&ijn=7&start=700&tbs=itp%3Aphoto%2Cic%3Acolor%2Cisz%3Am%2Csur%3Afmc&tbm=isch\n",
      "2021-10-19 17:04:21,242 - ERROR - downloader - Response status code 504, file https://www.nps.gov/articles/000/images/20200729_083902.jpg\n",
      "2021-10-19 17:04:21,750 - INFO - parser - parsing result page https://www.google.com/search?q=female&ijn=8&start=800&tbs=itp%3Aphoto%2Cic%3Acolor%2Cisz%3Am%2Csur%3Afmc&tbm=isch\n",
      "2021-10-19 17:04:22,384 - ERROR - downloader - Response status code 504, file https://www.nps.gov/articles/000/images/20200729_084641.jpg\n",
      "2021-10-19 17:04:22,493 - INFO - parser - parsing result page https://www.google.com/search?q=female&ijn=9&start=900&tbs=itp%3Aphoto%2Cic%3Acolor%2Cisz%3Am%2Csur%3Afmc&tbm=isch\n",
      "2021-10-19 17:04:23,965 - INFO - downloader - downloader-001 is waiting for new download tasks\n",
      "2021-10-19 17:04:24,232 - INFO - downloader - downloader-002 is waiting for new download tasks\n",
      "2021-10-19 17:04:24,574 - INFO - parser - no more page urls for thread parser-001 to parse\n",
      "2021-10-19 17:04:24,575 - INFO - parser - thread parser-001 exit\n",
      "2021-10-19 17:04:26,248 - INFO - downloader - no more download task for thread downloader-003\n",
      "2021-10-19 17:04:26,250 - INFO - downloader - thread downloader-003 exit\n",
      "2021-10-19 17:04:27,394 - INFO - downloader - no more download task for thread downloader-004\n",
      "2021-10-19 17:04:27,396 - INFO - downloader - thread downloader-004 exit\n",
      "2021-10-19 17:04:28,975 - INFO - downloader - no more download task for thread downloader-001\n",
      "2021-10-19 17:04:28,977 - INFO - downloader - thread downloader-001 exit\n",
      "2021-10-19 17:04:29,240 - INFO - downloader - no more download task for thread downloader-002\n",
      "2021-10-19 17:04:29,243 - INFO - downloader - thread downloader-002 exit\n",
      "2021-10-19 17:04:29,412 - INFO - icrawler.crawler - Crawling task done!\n"
     ]
    }
   ],
   "source": [
    "# 画像のダウンロード\n",
    "bing_crawler = GoogleImageCrawler(downloader_threads=4,\n",
    "                                storage={'root_dir': 'data'})\n",
    "filters = dict(\n",
    "    type='photo',\n",
    "    color='color',\n",
    "    size='medium',\n",
    "    license='commercial,modify'\n",
    ")\n",
    "bing_crawler.crawl(keyword='female', filters=filters, offset=0, max_num=1000)"
   ]
  },
  {
   "cell_type": "code",
   "execution_count": null,
   "metadata": {
    "id": "I1YVIOVCVh4Q"
   },
   "outputs": [],
   "source": [
    "# フォルダのzip化\n",
    "# !zip -r /content/download.zip /content/data"
   ]
  },
  {
   "cell_type": "markdown",
   "metadata": {
    "id": "fWCX39ZNxR0B"
   },
   "source": [
    "## 詳細設定したい方向け\n",
    "\n",
    "https://icrawler.readthedocs.io/en/latest/builtin.html#search-engine-crawlers\n",
    "\n",
    "- `type` – “photo”, “clipart”, “linedrawing”, “transparent”, “animated”.\n",
    "- `color` – “color”, “blackandwhite”, “red”, “orange”, “yellow”, “green”, “teal”, “blue”, “purple”, “pink”, “white”, “gray”, “black”, “brown”\n",
    "- `size` – “large”, “medium”, “small” or larger than a given size (e.g. “>640x480”).\n",
    "- `license` – “creativecommons”, “publicdomain”, “noncommercial”, “commercial”, “noncommercial,modify”, “commercial,modify”.\n",
    "- `layout` – “square”, “wide”, “tall”.\n",
    "- `people` – “face”, “portrait”.\n",
    "- `date` – “pastday”, “pastweek”, “pastmonth”, “pastyear”."
   ]
  },
  {
   "cell_type": "code",
   "execution_count": null,
   "metadata": {
    "id": "x9ftoTM_t05s"
   },
   "outputs": [],
   "source": [
    "# 画像のダウンロード\n",
    "# crawler = BingImageCrawler(downloader_threads=4,\n",
    "#                                 storage={'root_dir': 'data'})\n",
    "# filters = dict(\n",
    "#     type='photo',\n",
    "#     color='blackandwhite',\n",
    "#     size='medium',\n",
    "#     license='commercial,modify',\n",
    "#     date='pastyear'\n",
    "# )\n",
    "\n",
    "# crawler.crawl(keyword='cat', filters=filters, offset=0, max_num=1000)"
   ]
  },
  {
   "cell_type": "code",
   "execution_count": null,
   "metadata": {
    "id": "kOMR1qKasyf5"
   },
   "outputs": [],
   "source": []
  }
 ],
 "metadata": {
  "colab": {
   "collapsed_sections": [],
   "name": "Webから画像取得ipynb",
   "provenance": [],
   "toc_visible": true
  },
  "kernelspec": {
   "display_name": "Python 3 (ipykernel)",
   "language": "python",
   "name": "python3"
  },
  "language_info": {
   "codemirror_mode": {
    "name": "ipython",
    "version": 3
   },
   "file_extension": ".py",
   "mimetype": "text/x-python",
   "name": "python",
   "nbconvert_exporter": "python",
   "pygments_lexer": "ipython3",
   "version": "3.7.9"
  }
 },
 "nbformat": 4,
 "nbformat_minor": 1
}
