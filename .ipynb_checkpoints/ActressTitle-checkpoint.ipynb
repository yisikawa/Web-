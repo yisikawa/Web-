{
 "cells": [
  {
   "cell_type": "code",
   "execution_count": 1,
   "id": "6246566b-6b96-4a47-96f2-aa6b2cba581a",
   "metadata": {},
   "outputs": [],
   "source": [
    "import pandas as pd"
   ]
  },
  {
   "cell_type": "code",
   "execution_count": 2,
   "id": "97945bc1-679e-4d07-a358-4beae2fe2891",
   "metadata": {},
   "outputs": [
    {
     "data": {
      "text/html": [
       "<div>\n",
       "<style scoped>\n",
       "    .dataframe tbody tr th:only-of-type {\n",
       "        vertical-align: middle;\n",
       "    }\n",
       "\n",
       "    .dataframe tbody tr th {\n",
       "        vertical-align: top;\n",
       "    }\n",
       "\n",
       "    .dataframe thead th {\n",
       "        text-align: right;\n",
       "    }\n",
       "</style>\n",
       "<table border=\"1\" class=\"dataframe\">\n",
       "  <thead>\n",
       "    <tr style=\"text-align: right;\">\n",
       "      <th></th>\n",
       "      <th>Name</th>\n",
       "      <th>Image</th>\n",
       "      <th>Freq</th>\n",
       "      <th>Link</th>\n",
       "    </tr>\n",
       "  </thead>\n",
       "  <tbody>\n",
       "    <tr>\n",
       "      <th>0</th>\n",
       "      <td>Ai</td>\n",
       "      <td>https://pics.dmm.co.jp/mono/actjpgs/medium/ai.jpg</td>\n",
       "      <td>13.0</td>\n",
       "      <td>https://www.dmm.co.jp/digital/videoa/-/list/=/...</td>\n",
       "    </tr>\n",
       "    <tr>\n",
       "      <th>1</th>\n",
       "      <td>愛あいり</td>\n",
       "      <td>https://pics.dmm.co.jp/mono/actjpgs/medium/ai_...</td>\n",
       "      <td>253.0</td>\n",
       "      <td>https://www.dmm.co.jp/digital/videoa/-/list/=/...</td>\n",
       "    </tr>\n",
       "    <tr>\n",
       "      <th>2</th>\n",
       "      <td>藍色なぎ</td>\n",
       "      <td>https://pics.dmm.co.jp/mono/actjpgs/medium/aii...</td>\n",
       "      <td>42.0</td>\n",
       "      <td>https://www.dmm.co.jp/digital/videoa/-/list/=/...</td>\n",
       "    </tr>\n",
       "    <tr>\n",
       "      <th>3</th>\n",
       "      <td>藍色りりか</td>\n",
       "      <td>https://pics.dmm.co.jp/mono/actjpgs/medium/aii...</td>\n",
       "      <td>24.0</td>\n",
       "      <td>https://www.dmm.co.jp/digital/videoa/-/list/=/...</td>\n",
       "    </tr>\n",
       "    <tr>\n",
       "      <th>4</th>\n",
       "      <td>愛内あみ</td>\n",
       "      <td>https://pics.dmm.co.jp/mono/actjpgs/medium/aiu...</td>\n",
       "      <td>23.0</td>\n",
       "      <td>https://www.dmm.co.jp/digital/videoa/-/list/=/...</td>\n",
       "    </tr>\n",
       "  </tbody>\n",
       "</table>\n",
       "</div>"
      ],
      "text/plain": [
       "    Name                                              Image   Freq  \\\n",
       "0     Ai  https://pics.dmm.co.jp/mono/actjpgs/medium/ai.jpg   13.0   \n",
       "1   愛あいり  https://pics.dmm.co.jp/mono/actjpgs/medium/ai_...  253.0   \n",
       "2   藍色なぎ  https://pics.dmm.co.jp/mono/actjpgs/medium/aii...   42.0   \n",
       "3  藍色りりか  https://pics.dmm.co.jp/mono/actjpgs/medium/aii...   24.0   \n",
       "4   愛内あみ  https://pics.dmm.co.jp/mono/actjpgs/medium/aiu...   23.0   \n",
       "\n",
       "                                                Link  \n",
       "0  https://www.dmm.co.jp/digital/videoa/-/list/=/...  \n",
       "1  https://www.dmm.co.jp/digital/videoa/-/list/=/...  \n",
       "2  https://www.dmm.co.jp/digital/videoa/-/list/=/...  \n",
       "3  https://www.dmm.co.jp/digital/videoa/-/list/=/...  \n",
       "4  https://www.dmm.co.jp/digital/videoa/-/list/=/...  "
      ]
     },
     "execution_count": 2,
     "metadata": {},
     "output_type": "execute_result"
    }
   ],
   "source": [
    "df = pd.read_csv('output.csv')\n",
    "df.head()"
   ]
  },
  {
   "cell_type": "code",
   "execution_count": 3,
   "id": "ef05d00f-e8a5-40d1-a6ce-aa5873b472ac",
   "metadata": {},
   "outputs": [],
   "source": [
    "df_sort = df.sort_values('Freq',ascending=False)"
   ]
  },
  {
   "cell_type": "code",
   "execution_count": 4,
   "id": "8a2593bc-76cd-4802-9995-9315119d3d49",
   "metadata": {
    "tags": []
   },
   "outputs": [],
   "source": [
    "names = [name.split('（')[0] for name in df_sort['Name'].tolist()]\n",
    "links = df_sort['Link'].tolist()"
   ]
  },
  {
   "cell_type": "code",
   "execution_count": 5,
   "id": "5fcafd17-c3cc-48af-b605-928a23339612",
   "metadata": {},
   "outputs": [],
   "source": [
    "from selenium import webdriver\n",
    "import chromedriver_binary\n",
    "from selenium.webdriver.chrome.options import Options\n",
    "\n",
    "options = Options()\n",
    "options.add_argument('--headless')\n",
    "driver = webdriver.Chrome(options=options)\n",
    "\n",
    "driver.get(links[0])\n",
    "driver.find_element_by_link_text(\"はい\").click()\n",
    "    "
   ]
  },
  {
   "cell_type": "code",
   "execution_count": 6,
   "id": "50c6501e-dcfc-4eab-9233-f50003cea659",
   "metadata": {},
   "outputs": [],
   "source": [
    "def collect_title(name,url):\n",
    "    data = {\"Title\": [],\n",
    "        \"Image\":[],\n",
    "        \"Link\":[]}\n",
    "    df = pd.DataFrame(data)\n",
    "    \n",
    "    driver.get(url)\n",
    "    ninzu = driver.find_element_by_class_name(\"list-boxcaptside.list-boxpagenation\").text\n",
    "    num = -(-int(ninzu.split(\"\\u3000\")[0][0:-5].replace(',',''))//120)\n",
    "    for i in range(num):\n",
    "        driver.get(url  + '/page=' + str(i+1))\n",
    "        elements = driver.find_element_by_class_name(\"d-item\").find_elements_by_tag_name(\"img\")\n",
    "\n",
    "        for element in elements:\n",
    "            src = element.get_attribute('src')\n",
    "            alt = element.get_attribute('alt')\n",
    "            ref = element.find_element_by_xpath('../..') \n",
    "            link= ref.get_attribute('href')\n",
    "            se = pd.Series([alt,src,link],['Title','Image','Link'])\n",
    "            df = df.append(se, ignore_index=True)\n",
    "\n",
    "    df.to_csv(name+\".csv\",index=False)   "
   ]
  },
  {
   "cell_type": "code",
   "execution_count": 7,
   "id": "ca9c3805-d657-4515-a646-617e78796589",
   "metadata": {
    "tags": []
   },
   "outputs": [],
   "source": [
    "for i in range(0,len(links)):\n",
    "    collect_title(names[i],links[i])"
   ]
  },
  {
   "cell_type": "code",
   "execution_count": null,
   "id": "2b4bd331-5d33-4bb2-a69a-7f7c49466f6b",
   "metadata": {},
   "outputs": [],
   "source": []
  }
 ],
 "metadata": {
  "kernelspec": {
   "display_name": "Python 3 (ipykernel)",
   "language": "python",
   "name": "python3"
  },
  "language_info": {
   "codemirror_mode": {
    "name": "ipython",
    "version": 3
   },
   "file_extension": ".py",
   "mimetype": "text/x-python",
   "name": "python",
   "nbconvert_exporter": "python",
   "pygments_lexer": "ipython3",
   "version": "3.7.9"
  }
 },
 "nbformat": 4,
 "nbformat_minor": 5
}
