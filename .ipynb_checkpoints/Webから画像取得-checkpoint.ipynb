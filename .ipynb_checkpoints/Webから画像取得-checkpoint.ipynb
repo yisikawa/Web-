{
 "cells": [
  {
   "cell_type": "code",
   "execution_count": null,
   "metadata": {
    "id": "BHhgY_RMVblo"
   },
   "outputs": [],
   "source": [
    "# 必要な機能のインストール\n",
    "# !pip install icrawler"
   ]
  },
  {
   "cell_type": "code",
   "execution_count": 1,
   "metadata": {
    "id": "e2sXJUqXVhdl"
   },
   "outputs": [],
   "source": [
    "# 必要な機能の読込\n",
    "from icrawler.builtin import GoogleImageCrawler"
   ]
  },
  {
   "cell_type": "code",
   "execution_count": null,
   "metadata": {
    "id": "ePAzMcyogMBU"
   },
   "outputs": [
    {
     "name": "stderr",
     "output_type": "stream",
     "text": [
      "2021-10-19 07:22:07,643 - INFO - icrawler.crawler - start crawling...\n",
      "2021-10-19 07:22:07,649 - INFO - icrawler.crawler - starting 1 feeder threads...\n",
      "2021-10-19 07:22:07,651 - INFO - icrawler.crawler - starting 1 parser threads...\n",
      "2021-10-19 07:22:07,678 - INFO - icrawler.crawler - starting 4 downloader threads...\n",
      "2021-10-19 07:22:08,602 - INFO - parser - parsing result page https://www.google.com/search?q=Big+tits+milf&ijn=0&start=0&tbs=&tbm=isch\n",
      "2021-10-19 07:22:09,033 - INFO - downloader - image #1\thttps://tb.sb-cd.com/t/8072524/8/0/w:500/t6-enh/huge-boobs-milf-cam.jpg\n",
      "2021-10-19 07:22:09,222 - INFO - downloader - image #2\thttps://img-hw.xnxx-cdn.com/videos/thumbs169xnxxll/59/c6/c4/59c6c43a90619c3318b0b40332b111b8/59c6c43a90619c3318b0b40332b111b8.13.jpg\n",
      "2021-10-19 07:22:09,353 - INFO - downloader - image #3\thttps://img-hw.xvideos-cdn.com/videos/thumbs169poster/d5/7b/64/d57b646003fd84f63ffaf077d0d8991c/d57b646003fd84f63ffaf077d0d8991c.19.jpg\n",
      "2021-10-19 07:22:09,471 - INFO - downloader - image #4\thttps://img-hw.xvideos-cdn.com/videos/thumbs169poster/6d/cc/df/6dccdf965ef2a9163e7f29b92e8257db/6dccdf965ef2a9163e7f29b92e8257db.21.jpg\n",
      "2021-10-19 07:22:09,611 - INFO - downloader - image #5\thttps://cdn77-pic.xvideos-cdn.com/videos/thumbs169poster/9a/f7/cf/9af7cf9c034bf6e45737c5b5a38c2d15/9af7cf9c034bf6e45737c5b5a38c2d15.19.jpg\n",
      "2021-10-19 07:22:09,627 - INFO - downloader - image #6\thttps://img-hw.xvideos-cdn.com/videos/thumbs169poster/9c/e5/50/9ce550323a5ffd18568e0ff093278452/9ce550323a5ffd18568e0ff093278452.30.jpg\n",
      "2021-10-19 07:22:09,795 - ERROR - downloader - Response status code 401, file https://ei.phncdn.com/videos/201908/15/241933771/original/(m\\u003deaAaGwObaaaa)(mh\\u003dMkEcp2IYkKxp8mdu)16.jpg\n",
      "2021-10-19 07:22:10,094 - INFO - downloader - image #7\thttps://cdni.pornpics.de/460/7/146/25311654/25311654_013_f95f.jpg\n",
      "2021-10-19 07:22:10,208 - INFO - downloader - image #8\thttps://namethatporn.com/media/displays/2019/12/06/J6UQZ749Q5DKX_full-video-of-this-big-tits-milf.jpg\n",
      "2021-10-19 07:22:10,239 - INFO - downloader - image #9\thttps://cdni.pornpics.de/460/5/204/55410529/55410529_012_51e4.jpg\n",
      "2021-10-19 07:22:10,780 - ERROR - downloader - Response status code 401, file https://ei.phncdn.com/videos/202004/07/301222942/thumbs_5/(m\\u003deaAaGwObaaaa)(mh\\u003dAKqEVg9U3oKzWMLt)15.jpg\n",
      "2021-10-19 07:22:11,215 - INFO - downloader - image #10\thttps://cdn.theyarehuge.com/contents/videos_screenshots/51000/51463/preview.mp4.jpg\n",
      "2021-10-19 07:22:11,616 - INFO - downloader - image #11\thttps://thumb-lvlt.xhcdn.com/a/RYUyWIYoml2VwxpZ3EuM4g/016/128/274/1280x720.1.jpg\n",
      "2021-10-19 07:22:11,747 - INFO - downloader - image #12\thttps://cdn2.pornpic.xxx//uploads8/images/6/309/big-tits-big-tits-milf-6k69qf.jpg\n",
      "2021-10-19 07:22:13,306 - INFO - downloader - image #13\thttps://milfcloud.com/wp-content/uploads/2021/02/4o0hnlswdc851-1.jpg\n",
      "2021-10-19 07:22:13,385 - INFO - downloader - image #14\thttps://images-fe.ssl-images-amazon.com/images/I/519vfvrtm3L._SX342_SY445_QL70_ML2_.jpg\n",
      "2021-10-19 07:22:13,406 - INFO - downloader - image #15\thttps://xsexpics.com/pics/4064/muscular-big-tits-milf.jpg\n"
     ]
    }
   ],
   "source": [
    "# 画像のダウンロード\n",
    "bing_crawler = GoogleImageCrawler(downloader_threads=4,\n",
    "                                storage={'root_dir': 'data'})\n",
    "bing_crawler.crawl(keyword='Big tits milf', filters=None, offset=0, max_num=1000)"
   ]
  },
  {
   "cell_type": "code",
   "execution_count": null,
   "metadata": {
    "id": "I1YVIOVCVh4Q"
   },
   "outputs": [],
   "source": [
    "# フォルダのzip化\n",
    "# !zip -r /content/download.zip /content/data"
   ]
  },
  {
   "cell_type": "markdown",
   "metadata": {
    "id": "fWCX39ZNxR0B"
   },
   "source": [
    "## 詳細設定したい方向け\n",
    "\n",
    "https://icrawler.readthedocs.io/en/latest/builtin.html#search-engine-crawlers\n",
    "\n",
    "- `type` – “photo”, “clipart”, “linedrawing”, “transparent”, “animated”.\n",
    "- `color` – “color”, “blackandwhite”, “red”, “orange”, “yellow”, “green”, “teal”, “blue”, “purple”, “pink”, “white”, “gray”, “black”, “brown”\n",
    "- `size` – “large”, “medium”, “small” or larger than a given size (e.g. “>640x480”).\n",
    "- `license` – “creativecommons”, “publicdomain”, “noncommercial”, “commercial”, “noncommercial,modify”, “commercial,modify”.\n",
    "- `layout` – “square”, “wide”, “tall”.\n",
    "- `people` – “face”, “portrait”.\n",
    "- `date` – “pastday”, “pastweek”, “pastmonth”, “pastyear”."
   ]
  },
  {
   "cell_type": "code",
   "execution_count": null,
   "metadata": {
    "id": "x9ftoTM_t05s"
   },
   "outputs": [],
   "source": [
    "# 画像のダウンロード\n",
    "# crawler = BingImageCrawler(downloader_threads=4,\n",
    "#                                 storage={'root_dir': 'data'})\n",
    "# filters = dict(\n",
    "#     type='photo',\n",
    "#     color='blackandwhite',\n",
    "#     size='medium',\n",
    "#     license='commercial,modify',\n",
    "#     date='pastyear'\n",
    "# )\n",
    "\n",
    "# crawler.crawl(keyword='cat', filters=filters, offset=0, max_num=1000)"
   ]
  },
  {
   "cell_type": "code",
   "execution_count": null,
   "metadata": {
    "id": "kOMR1qKasyf5"
   },
   "outputs": [],
   "source": []
  }
 ],
 "metadata": {
  "colab": {
   "collapsed_sections": [],
   "name": "Webから画像取得ipynb",
   "provenance": [],
   "toc_visible": true
  },
  "kernelspec": {
   "display_name": "Python 3 (ipykernel)",
   "language": "python",
   "name": "python3"
  },
  "language_info": {
   "codemirror_mode": {
    "name": "ipython",
    "version": 3
   },
   "file_extension": ".py",
   "mimetype": "text/x-python",
   "name": "python",
   "nbconvert_exporter": "python",
   "pygments_lexer": "ipython3",
   "version": "3.7.9"
  }
 },
 "nbformat": 4,
 "nbformat_minor": 1
}
