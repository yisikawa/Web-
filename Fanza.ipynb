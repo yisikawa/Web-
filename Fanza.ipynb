{
 "cells": [
  {
   "cell_type": "markdown",
   "id": "37c0a47a-2387-4d73-8d59-dcda47d58c55",
   "metadata": {},
   "source": [
    "\n",
    "##### メソッド\t説明\n",
    "- find_element_by_id(id)\tid属性で要素を検索する\n",
    "- find_element_by_name(name)\tname属性で要素を検索する\n",
    "- find_element_by_class_name(name)\tclass属性で要素を検索する\n",
    "- find_element_by_tag_name(name)\tタグ名で要素を検索する\n",
    "- find_element_by_xpath(xpath)\tXPathで要素を検索する\n",
    "- find_element_by_css_selector(css_selector)\tCSSセレクタで要素を検索する\n",
    "- find_element_by_link_text(link_text)\tリンクテキストで要素を検索する\n",
    "- find_element_by_partial_link_text(link_text)\tリンクテキストの部分一致で要素を検索する"
   ]
  },
  {
   "cell_type": "code",
   "execution_count": 188,
   "id": "71597c31-c8fc-4beb-b749-2ef739cbfb34",
   "metadata": {},
   "outputs": [],
   "source": [
    "def function(df):\n",
    "    driver.get(url + '/keyword=' + siin + boin)\n",
    "    ninzu = driver.find_element_by_class_name(\"list-boxcaptside.list-boxpagenation.group\").text\n",
    "    num = -(-int(ninzu.split(\"\\u3000\")[0][0:-2])//100)\n",
    "    # num = -(-int(list(map(str,ninzu.split(\"\\u3000\")))[0][0:-2])//100)\n",
    "\n",
    "    for i in range(num):\n",
    "        driver.get(url + '/keyword=' + siin + boin + '/page=' + str(i+1))\n",
    "        elements = driver.find_element_by_class_name(\"d-area.area-actbox\").find_elements_by_tag_name(\"img\")\n",
    "\n",
    "        for element in elements:\n",
    "            src = element.get_attribute('src')\n",
    "            alt = element.get_attribute('alt')\n",
    "            ref = element.find_element_by_xpath('..') \n",
    "            link= ref.get_attribute('href')\n",
    "            freq= int(ref.find_elements_by_tag_name('span')[1].text.split('：')[1])\n",
    "            se = pd.Series([alt,src,freq,link],['Name', 'Image','Freq','Link'])\n",
    "            df = df.append(se, ignore_index=True)\n",
    "    return df"
   ]
  },
  {
   "cell_type": "code",
   "execution_count": 185,
   "id": "240c5968-3de0-4fb2-9c66-c684d203c7de",
   "metadata": {},
   "outputs": [],
   "source": [
    "from selenium import webdriver\n",
    "from selenium.webdriver.chrome.options import Options\n",
    "from time import sleep\n",
    "import pandas as pd\n",
    "options = Options()\n",
    "options.add_argument('--headless')\n",
    "\n",
    "data = {\"Name\": [],\n",
    "        \"Image\":[],\n",
    "        \"Freq\":[],\n",
    "        \"Link\":[]}\n",
    "df = pd.DataFrame(data)\n",
    "\n",
    "url = 'http://www.dmm.co.jp/digital/videoa/-/actress/='\n",
    "driver = webdriver.Chrome(options=options)\n",
    "\n",
    "boins=['a', 'i', 'u', 'e', 'o']\n",
    "siins=['', 'k', 's', 't', 'n', 'h', 'm', 'y', 'r', 'w']"
   ]
  },
  {
   "cell_type": "code",
   "execution_count": 186,
   "id": "6c47a320-dca1-4f10-b329-f957602f8057",
   "metadata": {},
   "outputs": [],
   "source": [
    "driver.get(url + '/keyword=' + 'a')\n",
    "driver.find_element_by_link_text(\"はい\").click()"
   ]
  },
  {
   "cell_type": "code",
   "execution_count": 187,
   "id": "e1d3eeca-d4dd-4561-8af5-de21f0594d4e",
   "metadata": {
    "tags": []
   },
   "outputs": [],
   "source": [
    "for siin in siins:\n",
    "    if siin == 'y':\n",
    "        for boin in boins[::2]:\n",
    "            df=function(df)\n",
    "    elif siin == 'w':\n",
    "        for boin in boins[0]:\n",
    "            df=function(df)\n",
    "    else:\n",
    "        for boin in boins:\n",
    "            df=function(df)\n",
    "\n",
    "df.to_csv(\"output.csv\",index=False)\n",
    "driver.quit()"
   ]
  },
  {
   "cell_type": "code",
   "execution_count": null,
   "id": "d9088bae-20ff-4a18-a8ad-eb3bd9c6a683",
   "metadata": {},
   "outputs": [],
   "source": []
  }
 ],
 "metadata": {
  "kernelspec": {
   "display_name": "Python 3 (ipykernel)",
   "language": "python",
   "name": "python3"
  },
  "language_info": {
   "codemirror_mode": {
    "name": "ipython",
    "version": 3
   },
   "file_extension": ".py",
   "mimetype": "text/x-python",
   "name": "python",
   "nbconvert_exporter": "python",
   "pygments_lexer": "ipython3",
   "version": "3.7.9"
  }
 },
 "nbformat": 4,
 "nbformat_minor": 5
}
