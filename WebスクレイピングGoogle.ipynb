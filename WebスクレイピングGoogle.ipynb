{
 "cells": [
  {
   "cell_type": "code",
   "execution_count": 1,
   "id": "ab96a1a5",
   "metadata": {},
   "outputs": [],
   "source": [
    "import requests\n",
    "from bs4 import BeautifulSoup"
   ]
  },
  {
   "cell_type": "code",
   "execution_count": 8,
   "id": "b0802ee7",
   "metadata": {},
   "outputs": [],
   "source": [
    "# url='https://www.google.com/search?q='+data+'&ijn=0&start=0&tbs=&tbm=isch'\n",
    "# url='https://www.google.com/search?hl=jp&q='+data+'&btnG=Google+Search&tbs=0&safe=off&tbm=isch'\n",
    "data = 'birds'\n",
    "url='https://www.google.com/search?q='+data+'&tbm=isch'\n",
    "res = requests.get(url)"
   ]
  },
  {
   "cell_type": "code",
   "execution_count": 9,
   "id": "a8c47c19",
   "metadata": {},
   "outputs": [],
   "source": [
    "soup = BeautifulSoup(res.text,'html.parser')"
   ]
  },
  {
   "cell_type": "code",
   "execution_count": 10,
   "id": "70c2d8e7",
   "metadata": {},
   "outputs": [],
   "source": [
    "from PIL import Image\n",
    "import io\n",
    "\n",
    "\n",
    "spots = soup.find_all('img')\n",
    "for i,spot in enumerate(spots):\n",
    "    img_url = spot['src']\n",
    "    if 'http' not in img_url:\n",
    "        continue\n",
    "    img = Image.open(io.BytesIO(requests.get(img_url).content))\n",
    "    img.save(f'img/sample{i+1}.jpg')"
   ]
  },
  {
   "cell_type": "code",
   "execution_count": null,
   "id": "23a14b4e",
   "metadata": {},
   "outputs": [],
   "source": []
  }
 ],
 "metadata": {
  "kernelspec": {
   "display_name": "Python 3 (ipykernel)",
   "language": "python",
   "name": "python3"
  },
  "language_info": {
   "codemirror_mode": {
    "name": "ipython",
    "version": 3
   },
   "file_extension": ".py",
   "mimetype": "text/x-python",
   "name": "python",
   "nbconvert_exporter": "python",
   "pygments_lexer": "ipython3",
   "version": "3.7.9"
  }
 },
 "nbformat": 4,
 "nbformat_minor": 5
}
